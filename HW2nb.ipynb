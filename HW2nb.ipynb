{
 "cells": [
  {
   "cell_type": "code",
   "execution_count": 1,
   "metadata": {},
   "outputs": [],
   "source": [
    "import numpy as np\n",
    "import scipy.interpolate as interp\n",
    "import scipy.optimize as opt\n",
    "import matplotlib.pyplot as plt\n",
    "import scipy.sparse as sp\n",
    "import tabulate as tab"
   ]
  },
  {
   "cell_type": "code",
   "execution_count": 2,
   "metadata": {},
   "outputs": [],
   "source": [
    "def aposterror(M,f,kfct,cfct,al,ar,v,w,k,N_int):\n",
    "    X = np.linspace(v,w,N_int)\n",
    "    N = np.zeros(k,dtype=np.int64)\n",
    "    U = np.zeros([k,N_int])\n",
    "\n",
    "    for j in range(k):\n",
    "        N[j] = 5*2**(j+2)\n",
    "        U[j,:] = M(f,kfct,cfct,al,ar,v,w,N[j],N_int)[1]\n",
    "    \n",
    "    Err = np.zeros(k); Delta = np.zeros(k)\n",
    "    Err[0] = float('NaN'); Err[1] = float('NaN'); Delta[0] = float('NaN')\n",
    "    Delta[1] = max(abs(U[1,:]-U[0,:]))\n",
    "    for j in range(k-2):\n",
    "        Delta[j+2] = max(abs(U[j+2,:]-U[j+1,:]))\n",
    "        Err[j+2] = Delta[j+1]/Delta[j+2]\n",
    "\n",
    "    return N,Delta,Err"
   ]
  },
  {
   "cell_type": "code",
   "execution_count": 3,
   "metadata": {},
   "outputs": [],
   "source": [
    "# Solve the 1D Boundary Value Problem -u''+cu'+ku=f on an interval (u,v) with Dirichlet boundary conditions u(v)=al, u(w)=ar; with n nodes and N_int interpolation points\n",
    "def FinDiffdd(f,kfct,cfct,al,ar,v,w,n,N_int):\n",
    "    # Setup mesh\n",
    "    [x,h] = np.linspace(v,w,n,retstep=True)\n",
    "\n",
    "    # Compute matrices for u'', u', and u separately\n",
    "    # Construct sparse matrix\n",
    "    I = np.zeros(3*(n-2)+2); J = np.zeros(3*(n-2)+2); L = np.zeros(3*(n-2)+2)\n",
    "    I[0] = 0; I[-1] = n-1; J[0] = 0; J[-1] = n-1; L[0] = 1; L[-1] = 1\n",
    "    for k in range(1,n-1):\n",
    "        I[[3*k-2,3*k-1,3*k]] = [k,k,k]\n",
    "        J[[3*k-2,3*k-1,3*k]] = [k-1,k,k+1]\n",
    "        L[[3*k-2,3*k-1,3*k]] = [-1-cfct(x[k])*h/2,2+h**2*kfct(x[k]),cfct(x[k])*h/2-1]/h**2\n",
    "\n",
    "    A = sp.csr_matrix((L, (I, J)), shape=(n, n))\n",
    "\n",
    "    # Construct the target vector\n",
    "    b = np.zeros(n); b[0] = al; b[n-1] = ar\n",
    "    for k in range(1,n-1):\n",
    "        b[k] = f(x[k])\n",
    "\n",
    "    # Solution\n",
    "    u = sp.linalg.spsolve(A,b)\n",
    "\n",
    "    # Interpolate\n",
    "    X = np.linspace(v,w,N_int)\n",
    "    Y = interp.interp1d(x,u,kind='cubic')(X)\n",
    "\n",
    "    return X,Y"
   ]
  },
  {
   "cell_type": "code",
   "execution_count": 5,
   "metadata": {},
   "outputs": [
    {
     "data": {
      "image/png": "[encoded data removed]",
      "text/plain": [
       "<Figure size 432x288 with 1 Axes>"
      ]
     },
     "metadata": {
      "needs_background": "light"
     },
     "output_type": "display_data"
    },
    {
     "name": "stdout",
     "output_type": "stream",
     "text": [
      "╒══════════╤═══════════════╤════════════════╕\n",
      "│   #Nodes │         Delta │   Order of Cvg │\n",
      "╞══════════╪═══════════════╪════════════════╡\n",
      "│       20 │ nan           │      nan       │\n",
      "├──────────┼───────────────┼────────────────┤\n",
      "│       40 │   0.000481712 │      nan       │\n",
      "├──────────┼───────────────┼────────────────┤\n",
      "│       80 │   0.000113855 │        4.23093 │\n",
      "├──────────┼───────────────┼────────────────┤\n",
      "│      160 │   2.76602e-05 │        4.1162  │\n",
      "├──────────┼───────────────┼────────────────┤\n",
      "│      320 │   6.81608e-06 │        4.05808 │\n",
      "├──────────┼───────────────┼────────────────┤\n",
      "│      640 │   1.69171e-06 │        4.02912 │\n",
      "├──────────┼───────────────┼────────────────┤\n",
      "│     1280 │   4.21387e-07 │        4.01461 │\n",
      "├──────────┼───────────────┼────────────────┤\n",
      "│     2560 │   1.05158e-07 │        4.0072  │\n",
      "├──────────┼───────────────┼────────────────┤\n",
      "│     5120 │   2.62774e-08 │        4.00182 │\n",
      "├──────────┼───────────────┼────────────────┤\n",
      "│    10240 │   6.56029e-09 │        4.00553 │\n",
      "╘══════════╧═══════════════╧════════════════╛\n"
     ]
    }
   ],
   "source": [
    "cfct = lambda y: np.exp(-y**2); kfct = lambda y: 2*(2*y**2+1); f = lambda y: 2*y\n",
    "\n",
    "X,Y = FinDiffdd(f,kfct,cfct,1,np.exp(1),0,1,5,1000)\n",
    "\n",
    "plt.figure(1)\n",
    "plt.plot(X,Y)\n",
    "plt.ylabel('u(x)')\n",
    "plt.xlabel('x')\n",
    "plt.title('Dirichlet Boundary Conditions')\n",
    "plt.show()\n",
    "\n",
    "n_ref = 10\n",
    "N,Delta,Err = aposterror(FinDiffdd,f,kfct,cfct,1,np.exp(1),0,1,n_ref,100000)\n",
    "\n",
    "data = [['#Nodes','Delta','Order of Cvg']] + [[N[j],Delta[j],Err[j]] for j in range(n_ref)]\n",
    "table = tab.tabulate(data,headers='firstrow',tablefmt='fancy_grid')\n",
    "\n",
    "print(table)"
   ]
  },
  {
   "cell_type": "code",
   "execution_count": 6,
   "metadata": {},
   "outputs": [],
   "source": [
    "# Solve the 1D Boundary Value Problem -u''+cu'+ku=f on an interval (u,v) with Neumann/Dirichlet boundary conditions u'(v)=al, u(w)=ar; with n nodes and N_int interpolation points\n",
    "def FinDiffnd(f,kfct,cfct,al,ar,v,w,n,N_int):\n",
    "    # Setup mesh\n",
    "    [x,h] = np.linspace(v,w,n,retstep=True)\n",
    "\n",
    "    # Construct sparse matrix\n",
    "    I = np.zeros(3*(n-1)); J = np.zeros(3*(n-1)); L = np.zeros(3*(n-1))\n",
    "    I[0] = 0; I[-1] = n-1; J[0] = 0; J[-1] = n-1; L[0] = 2/(h**2)+kfct(v); L[-1] = 1; I[-2] = 0; J[-2] = 1; L[-2] = -2/(h**2)\n",
    "    for k in range(1,n-1):\n",
    "        I[[3*k-2,3*k-1,3*k]] = [k,k,k]\n",
    "        J[[3*k-2,3*k-1,3*k]] = [k-1,k,k+1]\n",
    "        L[[3*k-2,3*k-1,3*k]] = [-1-cfct(x[k])*h/2,2+h**2*kfct(x[k]),cfct(x[k])*h/2-1]/h**2\n",
    "\n",
    "    A = sp.csr_matrix((L, (I, J)), shape=(n, n))\n",
    "    \n",
    "    # Construct the target vector\n",
    "    b = np.zeros(n); b[0] = f(v)-(2/h+cfct(v))*al; b[n-1] = ar\n",
    "    for k in range(1,n-1):\n",
    "        b[k] = f(x[k])\n",
    "\n",
    "    # Solution\n",
    "    u = sp.linalg.spsolve(A,b)\n",
    "\n",
    "    # Interpolate\n",
    "    X = np.linspace(v,w,N_int)\n",
    "    Y = interp.interp1d(x,u,kind='cubic')(X)\n",
    "\n",
    "    return X,Y"
   ]
  },
  {
   "cell_type": "code",
   "execution_count": 8,
   "metadata": {},
   "outputs": [
    {
     "data": {
      "image/png": "[encoded data removed]",
      "text/plain": [
       "<Figure size 432x288 with 1 Axes>"
      ]
     },
     "metadata": {
      "needs_background": "light"
     },
     "output_type": "display_data"
    },
    {
     "name": "stdout",
     "output_type": "stream",
     "text": [
      "╒═══════════╤═══════════════╤════════════════╕\n",
      "│   # Nodes │         Delta │   Order of Cvg │\n",
      "╞═══════════╪═══════════════╪════════════════╡\n",
      "│        20 │ nan           │      nan       │\n",
      "├───────────┼───────────────┼────────────────┤\n",
      "│        40 │   0.000780527 │      nan       │\n",
      "├───────────┼───────────────┼────────────────┤\n",
      "│        80 │   0.000183438 │        4.25499 │\n",
      "├───────────┼───────────────┼────────────────┤\n",
      "│       160 │   4.45041e-05 │        4.12182 │\n",
      "├───────────┼───────────────┼────────────────┤\n",
      "│       320 │   1.09627e-05 │        4.05959 │\n",
      "├───────────┼───────────────┼────────────────┤\n",
      "│       640 │   2.72062e-06 │        4.02948 │\n",
      "├───────────┼───────────────┼────────────────┤\n",
      "│      1280 │   6.77676e-07 │        4.01464 │\n",
      "├───────────┼───────────────┼────────────────┤\n",
      "│      2560 │   1.6911e-07  │        4.0073  │\n",
      "├───────────┼───────────────┼────────────────┤\n",
      "│      5120 │   4.22819e-08 │        3.99959 │\n",
      "├───────────┼───────────────┼────────────────┤\n",
      "│     10240 │   1.05258e-08 │        4.01697 │\n",
      "╘═══════════╧═══════════════╧════════════════╛\n"
     ]
    }
   ],
   "source": [
    "cfct = lambda y: np.exp(-y**2); kfct = lambda y: 2*(2*y**2+1); f = lambda y: 2*y\n",
    "\n",
    "X,Y = FinDiffnd(f,kfct,cfct,0,np.exp(1),0,1,5,10000)\n",
    "\n",
    "plt.figure(1)\n",
    "plt.plot(X,Y)\n",
    "plt.ylabel('u(x)')\n",
    "plt.xlabel('x')\n",
    "plt.title('Neumann/Dirichlet Boundary Conditions')\n",
    "plt.show()\n",
    "\n",
    "n_ref = 10\n",
    "N,Delta,Err = aposterror(FinDiffnd,f,kfct,cfct,0,np.exp(1),0,1,n_ref,100000)\n",
    "\n",
    "data = [['# Nodes','Delta','Order of Cvg']] + [[N[j],Delta[j],Err[j]] for j in range(n_ref)]\n",
    "table = tab.tabulate(data,headers='firstrow',tablefmt='fancy_grid')\n",
    "\n",
    "print(table)"
   ]
  },
  {
   "cell_type": "code",
   "execution_count": 9,
   "metadata": {},
   "outputs": [],
   "source": [
    "# Solve the 1D Boundary Value Problem -u''+cu'+ku=f on an interval (u,v) with Dirichlet/Neumann boundary conditions u(v)=al, u'(w)=ar; with n nodes and N_int interpolation points\n",
    "def FinDiffdn(f,kfct,cfct,al,ar,v,w,n,N_int):\n",
    "    # Setup mesh\n",
    "    [x,h] = np.linspace(v,w,n,retstep=True)\n",
    "\n",
    "    # Construct sparse matrix\n",
    "    I = np.zeros(3*(n-1)); J = np.zeros(3*(n-1)); L = np.zeros(3*(n-1))\n",
    "    I[0] = 0; I[-1] = n-1; J[0] = 0; J[-1] = n-1; L[0] = 1; L[-1] = 2/(h**2)+kfct(w); I[-2] = n-1; J[-2] = n-2; L[-2] = -2/(h**2)\n",
    "    for k in range(1,n-1):\n",
    "        I[[3*k-2,3*k-1,3*k]] = [k,k,k]\n",
    "        J[[3*k-2,3*k-1,3*k]] = [k-1,k,k+1]\n",
    "        L[[3*k-2,3*k-1,3*k]] = [-1-cfct(x[k])*h/2,2+h**2*kfct(x[k]),cfct(x[k])*h/2-1]/h**2\n",
    "\n",
    "    A = sp.csr_matrix((L, (I, J)), shape=(n, n))\n",
    "    \n",
    "    # Construct the target vector\n",
    "    b = np.zeros(n); b[0] = al; b[n-1] = f(w)+(2/h-cfct(w))*ar\n",
    "    for k in range(1,n-1):\n",
    "        b[k] = f(x[k])\n",
    "\n",
    "    # Solution\n",
    "    u = sp.linalg.spsolve(A,b)\n",
    "\n",
    "    # Interpolate\n",
    "    X = np.linspace(v,w,N_int)\n",
    "    Y = interp.interp1d(x,u,kind='cubic')(X)\n",
    "\n",
    "    return X,Y"
   ]
  },
  {
   "cell_type": "code",
   "execution_count": 10,
   "metadata": {},
   "outputs": [
    {
     "data": {
      "image/png": "[encoded data removed]",
      "text/plain": [
       "<Figure size 432x288 with 1 Axes>"
      ]
     },
     "metadata": {
      "needs_background": "light"
     },
     "output_type": "display_data"
    },
    {
     "name": "stdout",
     "output_type": "stream",
     "text": [
      "╒═══════════╤═══════════════╤════════════════╕\n",
      "│   # Nodes │         Delta │   Order of Cvg │\n",
      "╞═══════════╪═══════════════╪════════════════╡\n",
      "│        20 │ nan           │      nan       │\n",
      "├───────────┼───────────────┼────────────────┤\n",
      "│        40 │   0.00262643  │      nan       │\n",
      "├───────────┼───────────────┼────────────────┤\n",
      "│        80 │   0.000618587 │        4.24585 │\n",
      "├───────────┼───────────────┼────────────────┤\n",
      "│       160 │   0.000150152 │        4.11974 │\n",
      "├───────────┼───────────────┼────────────────┤\n",
      "│       320 │   3.69915e-05 │        4.05909 │\n",
      "├───────────┼───────────────┼────────────────┤\n",
      "│       640 │   9.18049e-06 │        4.02936 │\n",
      "├───────────┼───────────────┼────────────────┤\n",
      "│      1280 │   2.28683e-06 │        4.0145  │\n",
      "├───────────┼───────────────┼────────────────┤\n",
      "│      2560 │   5.70685e-07 │        4.00718 │\n",
      "├───────────┼───────────────┼────────────────┤\n",
      "│      5120 │   1.42378e-07 │        4.00824 │\n",
      "├───────────┼───────────────┼────────────────┤\n",
      "│     10240 │   3.6046e-08  │        3.9499  │\n",
      "╘═══════════╧═══════════════╧════════════════╛\n"
     ]
    }
   ],
   "source": [
    "cfct = lambda y: 1; kfct = lambda y: y; f = lambda y: y**3 - 3*y**2\n",
    "# cfct = lambda y: np.exp(-y**2); kfct = lambda y: 2*(2*y**2+1); f = lambda y: 2*y\n",
    "\n",
    "X,Y = FinDiffdn(f,kfct,cfct,0,3,0,1,5,100000)\n",
    "\n",
    "plt.figure(1)\n",
    "plt.plot(X,Y)\n",
    "plt.ylabel('u(x)')\n",
    "plt.xlabel('x')\n",
    "plt.title('Dirichlet Boundary Conditions')\n",
    "plt.show()\n",
    "\n",
    "n_ref = 10\n",
    "N,Delta,Err = aposterror(FinDiffdn,f,kfct,cfct,0,3,0,1,n_ref,100000)\n",
    "\n",
    "data = [['# Nodes','Delta','Order of Cvg']] + [[N[j],Delta[j],Err[j]] for j in range(n_ref)]\n",
    "table = tab.tabulate(data,headers='firstrow',tablefmt='fancy_grid')\n",
    "\n",
    "print(table)"
   ]
  },
  {
   "cell_type": "code",
   "execution_count": 11,
   "metadata": {},
   "outputs": [],
   "source": [
    "def aposterrorR(M,f,kfct,cfct,alpha,al,ar,v,w,k,N_int):\n",
    "    X = np.linspace(v,w,N_int)\n",
    "    N = np.zeros(k,dtype=np.int64)\n",
    "    U = np.zeros([k,N_int])\n",
    "\n",
    "    for j in range(k):\n",
    "        N[j] = 5*2**(j+2)\n",
    "        U[j,:] = M(f,kfct,cfct,alpha,al,ar,v,w,N[j],N_int)[1]\n",
    "    \n",
    "    Err = np.zeros(k); Delta = np.zeros(k)\n",
    "    Err[0] = float('NaN'); Err[1] = float('NaN'); Delta[0] = float('NaN')\n",
    "    Delta[1] = max(abs(U[1,:]-U[0,:]))\n",
    "    for j in range(k-2):\n",
    "        Delta[j+2] = max(abs(U[j+2,:]-U[j+1,:]))\n",
    "        Err[j+2] = Delta[j+1]/Delta[j+2]\n",
    "\n",
    "    return N,Delta,Err"
   ]
  },
  {
   "cell_type": "code",
   "execution_count": 12,
   "metadata": {},
   "outputs": [],
   "source": [
    "# Solve the 1D Boundary Value Problem -u''+cu'+ku=f on an interval (u,v) with Dirichlet/Robin boundary conditions u(v)=al, u'(w)+alpha*u(w)=ar; with n nodes and N_int interpolation points\n",
    "def FinDiffdr(f,kfct,cfct,alpha,al,ar,v,w,n,N_int):\n",
    "    # Setup mesh\n",
    "    [x,h] = np.linspace(v,w,n,retstep=True)\n",
    "\n",
    "    # Construct sparse matrix\n",
    "    I = np.zeros(3*(n-1)); J = np.zeros(3*(n-1)); L = np.zeros(3*(n-1))\n",
    "    I[0] = 0; I[-1] = n-1; J[0] = 0; J[-1] = n-1; L[0] = 1; L[-1] = 2*(1+alpha*h)/(h**2)+kfct(w)-alpha*cfct(w); I[-2] = n-1; J[-2] = n-2; L[-2] = -2/(h**2)\n",
    "    for k in range(1,n-1):\n",
    "        I[[3*k-2,3*k-1,3*k]] = [k,k,k]\n",
    "        J[[3*k-2,3*k-1,3*k]] = [k-1,k,k+1]\n",
    "        L[[3*k-2,3*k-1,3*k]] = [-1-cfct(x[k])*h/2,2+h**2*kfct(x[k]),cfct(x[k])*h/2-1]/h**2\n",
    "\n",
    "    A = sp.csr_matrix((L, (I, J)), shape=(n, n))\n",
    "    \n",
    "    # Construct the target vector\n",
    "    b = np.zeros(n); b[0] = al; b[n-1] = f(w)+(2/h-cfct(w))*ar\n",
    "    for k in range(1,n-1):\n",
    "        b[k] = f(x[k])\n",
    "\n",
    "    # Solution\n",
    "    u = sp.linalg.spsolve(A,b)\n",
    "\n",
    "    # Interpolate\n",
    "    X = np.linspace(v,w,N_int)\n",
    "    Y = interp.interp1d(x,u,kind='cubic')(X)\n",
    "\n",
    "    return X,Y"
   ]
  },
  {
   "cell_type": "code",
   "execution_count": 13,
   "metadata": {},
   "outputs": [
    {
     "data": {
      "image/png": "[encoded data removed]",
      "text/plain": [
       "<Figure size 432x288 with 1 Axes>"
      ]
     },
     "metadata": {
      "needs_background": "light"
     },
     "output_type": "display_data"
    },
    {
     "name": "stdout",
     "output_type": "stream",
     "text": [
      "╒═══════════╤═══════════════╤════════════════╕\n",
      "│   # Nodes │         Delta │   Order of Cvg │\n",
      "╞═══════════╪═══════════════╪════════════════╡\n",
      "│        20 │ nan           │      nan       │\n",
      "├───────────┼───────────────┼────────────────┤\n",
      "│        40 │   0.00323935  │      nan       │\n",
      "├───────────┼───────────────┼────────────────┤\n",
      "│        80 │   0.00076474  │        4.23589 │\n",
      "├───────────┼───────────────┼────────────────┤\n",
      "│       160 │   0.000185732 │        4.11744 │\n",
      "├───────────┼───────────────┼────────────────┤\n",
      "│       320 │   4.57632e-05 │        4.05854 │\n",
      "├───────────┼───────────────┼────────────────┤\n",
      "│       640 │   1.13578e-05 │        4.02922 │\n",
      "├───────────┼───────────────┼────────────────┤\n",
      "│      1280 │   2.82913e-06 │        4.0146  │\n",
      "├───────────┼───────────────┼────────────────┤\n",
      "│      2560 │   7.05997e-07 │        4.00729 │\n",
      "├───────────┼───────────────┼────────────────┤\n",
      "│      5120 │   1.76329e-07 │        4.00387 │\n",
      "├───────────┼───────────────┼────────────────┤\n",
      "│     10240 │   4.39719e-08 │        4.01003 │\n",
      "╘═══════════╧═══════════════╧════════════════╛\n"
     ]
    }
   ],
   "source": [
    "cfct = lambda y: np.exp(-y**2); kfct = lambda y: 2*(2*y**2+1); f = lambda y: 2*y\n",
    "\n",
    "X,Y = FinDiffdr(f,kfct,cfct,2,1,4*np.exp(1),0,1,100,100000)\n",
    "\n",
    "plt.figure(1)\n",
    "plt.plot(X,Y)\n",
    "plt.ylabel('u(x)')\n",
    "plt.xlabel('x')\n",
    "plt.title('Dirichlet/Robin Boundary Conditions')\n",
    "plt.savefig('Dirichlet-Robin.png')\n",
    "plt.show()\n",
    "\n",
    "n_ref = 10\n",
    "N,Delta,Err = aposterrorR(FinDiffdr,f,kfct,cfct,2,1,4*np.exp(1),0,1,n_ref,100000)\n",
    "\n",
    "data = [['# Nodes','Delta','Order of Cvg']] + [[N[j],Delta[j],Err[j]] for j in range(n_ref)]\n",
    "table = tab.tabulate(data,headers='firstrow',tablefmt='fancy_grid')\n",
    "\n",
    "print(table)"
   ]
  }
 ],
 "metadata": {
  "kernelspec": {
   "display_name": "base",
   "language": "python",
   "name": "python3"
  },
  "language_info": {
   "codemirror_mode": {
    "name": "ipython",
    "version": 3
   },
   "file_extension": ".py",
   "mimetype": "text/x-python",
   "name": "python",
   "nbconvert_exporter": "python",
   "pygments_lexer": "ipython3",
   "version": "3.9.7"
  },
  "orig_nbformat": 4,
  "vscode": {
   "interpreter": {
    "hash": "ad7fa0fb89651f1ef9cd8ac0723f3f2a7ae815a654dc693e0cf070cd209264f3"
   }
  }
 },
 "nbformat": 4,
 "nbformat_minor": 2
}
